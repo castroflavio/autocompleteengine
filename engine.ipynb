{
 "cells": [
  {
   "cell_type": "markdown",
   "metadata": {},
   "source": [
    "##Introduction"
   ]
  },
  {
   "cell_type": "markdown",
   "metadata": {},
   "source": [
    "The goal for this is to write a simple autocomplete engine. This engine will have 2 main functions:\n",
    "* init(filename)\n",
    "* complete(string, count)\n",
    "The init function populates the autocomplete engine and takes a filename as input."
   ]
  },
  {
   "cell_type": "markdown",
   "metadata": {},
   "source": [
   "There are plenty of design choices to make here. We could for examples store all this information in a dictionary. We could use a simple trie, or we could be creative and modify a trie to optimize response time. The following explains the design choices: \n",
   "![performance table][picture.png]\n",
   "[prefixy algo choices][https://medium.com/@prefixyteam/how-we-built-prefixy-a-scalable-prefix-search-service-for-powering-autocomplete-c20f98e2eff1]\n",
   "I decided to use a dictionary because that's, IMHO, the most elegant solution. The only drawback is that it uses a lot of space, but memory and disk space are relatively cheap nowadays. \n"
   ]
  }
 ],
 "metadata": {
  "kernelspec": {
   "display_name": "Python 3",
   "language": "python",
   "name": "python3"
  },
  "language_info": {
   "codemirror_mode": {
    "name": "ipython",
    "version": 3
   },
   "file_extension": ".py",
   "mimetype": "text/x-python",
   "name": "python",
   "nbconvert_exporter": "python",
   "pygments_lexer": "ipython3",
   "version": "3.7.3"
  }
 },
 "nbformat": 4,
 "nbformat_minor": 1
}
